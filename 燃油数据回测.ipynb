{
 "cells": [
  {
   "cell_type": "code",
   "execution_count": 1,
   "id": "bddc243d",
   "metadata": {},
   "outputs": [],
   "source": [
    "import pandas as pd\n",
    "import numpy as np\n",
    "import matplotlib.pyplot as plt\n",
    "from tqdm import tqdm"
   ]
  },
  {
   "cell_type": "code",
   "execution_count": 2,
   "id": "cdc8188f",
   "metadata": {},
   "outputs": [],
   "source": [
    "data = pd.read_csv('./data/fu2405_tick.csv')\n",
    "\n",
    "# data = data[-25000:]\n",
    "# data.tail()"
   ]
  },
  {
   "cell_type": "code",
   "execution_count": 3,
   "id": "0a0c2f4e",
   "metadata": {},
   "outputs": [],
   "source": [
    "def argmax(x):\n",
    "    return x.argmax()\n",
    "def argmin(x):\n",
    "    return x.argmin()\n",
    "def get_diff(x):\n",
    "    if abs(x[0])>abs(x[1]):\n",
    "        return x[0]\n",
    "    else:\n",
    "        return x[1]\n",
    "data['volume_delta'] = data['volume'].diff()"
   ]
  },
  {
   "cell_type": "code",
   "execution_count": 4,
   "id": "7f365223",
   "metadata": {},
   "outputs": [],
   "source": [
    "p0 = 60\n",
    "p1 = 240\n",
    "\n",
    "roll_0 = data['last_price'].rolling(p0)\n",
    "roll_1 = data['last_price'].rolling(p1)\n",
    "\n",
    "max0 = roll_0.max()\n",
    "min0 = roll_0.min()\n",
    "\n",
    "max1 = roll_1.max()\n",
    "min1 = roll_1.min()\n",
    "\n",
    "data['min0_diff'] = data['last_price'] - max0\n",
    "data['max0_diff'] = data['last_price'] - min0\n",
    "\n",
    "data['min1_diff'] = data['last_price'] - max1 \n",
    "data['max1_diff'] = data['last_price'] - min1\n",
    "\n",
    "data['diff0']= data[['min0_diff','max0_diff']].apply(get_diff,axis=1)\n",
    "data['diff1']= data[['min1_diff','max1_diff']].apply(get_diff,axis=1)"
   ]
  },
  {
   "cell_type": "code",
   "execution_count": 5,
   "id": "b3adb9f2",
   "metadata": {},
   "outputs": [],
   "source": [
    "#long_benifit = 6, long_loss = -9 ,short_benifit = 7, short_loss = -11\n",
    "# long盈利41，交易次数4， short盈利18，交易次数10 \n",
    "h1 = data[(data['last_price']<=data['bid_price'])&(data['bid_volume']>2*data['ask_volume'])&(data['volume_delta']>=10)].index\n",
    "l1 = data[(data['last_price']>=data['ask_price'])&(data['ask_volume']>2*data['bid_volume'])&(data['volume_delta']<=10)].index\n",
    "\n",
    "l1_close = data[(data['bid_volume']>2*data['ask_volume'])&(data['volume_delta']>=10)].index\n",
    "h1_close = data[(data['ask_volume']>2*data['bid_volume'])&(data['volume_delta']<=10)].index"
   ]
  },
  {
   "cell_type": "code",
   "execution_count": 12,
   "id": "9ea85660",
   "metadata": {},
   "outputs": [
    {
     "name": "stderr",
     "output_type": "stream",
     "text": [
      "C:\\Users\\rcl\\AppData\\Local\\Temp\\ipykernel_1052\\3252150563.py:2: SettingWithCopyWarning: \n",
      "A value is trying to be set on a copy of a slice from a DataFrame\n",
      "\n",
      "See the caveats in the documentation: https://pandas.pydata.org/pandas-docs/stable/user_guide/indexing.html#returning-a-view-versus-a-copy\n",
      "  data['sign'][h1] = 1\n",
      "C:\\Users\\rcl\\AppData\\Local\\Temp\\ipykernel_1052\\3252150563.py:3: SettingWithCopyWarning: \n",
      "A value is trying to be set on a copy of a slice from a DataFrame\n",
      "\n",
      "See the caveats in the documentation: https://pandas.pydata.org/pandas-docs/stable/user_guide/indexing.html#returning-a-view-versus-a-copy\n",
      "  data['sign'][l1] = -1\n",
      "C:\\Users\\rcl\\AppData\\Local\\Temp\\ipykernel_1052\\3252150563.py:6: SettingWithCopyWarning: \n",
      "A value is trying to be set on a copy of a slice from a DataFrame\n",
      "\n",
      "See the caveats in the documentation: https://pandas.pydata.org/pandas-docs/stable/user_guide/indexing.html#returning-a-view-versus-a-copy\n",
      "  data['close_sign'][l1_close] = 1\n",
      "C:\\Users\\rcl\\AppData\\Local\\Temp\\ipykernel_1052\\3252150563.py:7: SettingWithCopyWarning: \n",
      "A value is trying to be set on a copy of a slice from a DataFrame\n",
      "\n",
      "See the caveats in the documentation: https://pandas.pydata.org/pandas-docs/stable/user_guide/indexing.html#returning-a-view-versus-a-copy\n",
      "  data['close_sign'][h1_close] = -1\n"
     ]
    }
   ],
   "source": [
    "data['sign']=0\n",
    "data['sign'][h1] = 1\n",
    "data['sign'][l1] = -1\n",
    "\n",
    "data['close_sign'] = 0\n",
    "data['close_sign'][l1_close] = 1\n",
    "data['close_sign'][h1_close] = -1\n",
    "\n",
    "test_data = data[-790000:-560000]"
   ]
  },
  {
   "cell_type": "code",
   "execution_count": 13,
   "id": "7f8e06bc",
   "metadata": {
    "scrolled": true
   },
   "outputs": [
    {
     "name": "stderr",
     "output_type": "stream",
     "text": [
      "230000it [00:17, 13281.51it/s]"
     ]
    },
    {
     "name": "stdout",
     "output_type": "stream",
     "text": [
      "43.0 7\n",
      "42.0 4\n"
     ]
    },
    {
     "name": "stderr",
     "output_type": "stream",
     "text": [
      "\n"
     ]
    }
   ],
   "source": [
    "pos = 0\n",
    "\n",
    "long_benifit = 22\n",
    "long_loss = -24\n",
    "short_benifit = 22\n",
    "short_loss = -24\n",
    "\n",
    "long_diff = []\n",
    "short_diff = []\n",
    "total_diff = []\n",
    "direction = []\n",
    "pos_price = 0\n",
    "\n",
    "\n",
    "for row in tqdm(test_data.iterrows()):\n",
    "    sign = row[1]['sign']  \n",
    "    if len(total_diff)>=3:\n",
    "        if direction[-1] == direction[-2] == -1:\n",
    "            if total_diff[-1]<0 and total_diff[-2]<0:\n",
    "                sign*=-1\n",
    "        elif total_diff[-1]<0 and total_diff[-2]<0 and total_diff[-3]<0:\n",
    "            sign*= -1\n",
    "            \n",
    "    if pos == 0:\n",
    "        if sign == 1 and row[1]['ask_volume']>0:\n",
    "            pos_price = row[1]['ask_price']\n",
    "            pos = 1\n",
    "            direction.append(1)\n",
    "            \n",
    "        elif sign == -1 and row[1]['bid_volume']>0:\n",
    "            pos_price = row[1]['bid_price']\n",
    "            pos = -1\n",
    "            direction.append(-1)\n",
    "            \n",
    "    elif pos == 1 and row[1]['bid_price']>0:\n",
    "        diff = row[1]['bid_price'] - pos_price\n",
    "        if diff>=long_benifit and row[1]['close_sign'] == -1:\n",
    "            long_diff.append(diff)\n",
    "            pos = 0\n",
    "            total_diff.append(diff)\n",
    "        elif diff<= long_loss:\n",
    "            long_diff.append(diff)\n",
    "            pos = 0\n",
    "            total_diff.append(diff)\n",
    "    elif pos == -1 and row[1]['ask_price']>0:\n",
    "        diff = pos_price - row[1]['ask_price']\n",
    "        if diff>=short_benifit and row[1]['close_sign'] == 1:\n",
    "            short_diff.append(diff)\n",
    "            pos = 0\n",
    "            total_diff.append(diff)\n",
    "        elif diff<= short_loss:\n",
    "            short_diff.append(diff)\n",
    "            pos = 0\n",
    "            total_diff.append(diff)\n",
    "        \n",
    "print(sum(long_diff),len(long_diff))\n",
    "print(sum(short_diff),len(short_diff))"
   ]
  },
  {
   "cell_type": "code",
   "execution_count": 9,
   "id": "b2e0624b",
   "metadata": {},
   "outputs": [
    {
     "name": "stdout",
     "output_type": "stream",
     "text": [
      "1 23.0\n",
      "1 22.0\n",
      "-1 22.0\n",
      "1 24.0\n",
      "1 24.0\n",
      "1 23.0\n",
      "1 22.0\n",
      "1 -30.0\n",
      "1 -24.0\n",
      "1 27.0\n",
      "-1 23.0\n",
      "-1 -31.0\n",
      "1 44.0\n",
      "1 22.0\n",
      "-1 23.0\n",
      "1 -24.0\n",
      "1 -24.0\n",
      "1 22.0\n",
      "-1 -24.0\n",
      "1 28.0\n",
      "1 22.0\n",
      "1 27.0\n",
      "-1 22.0\n",
      "-1 -24.0\n",
      "1 -24.0\n",
      "1 22.0\n"
     ]
    }
   ],
   "source": [
    "for i,j in zip(direction,total_diff):\n",
    "    print(i,j)"
   ]
  },
  {
   "cell_type": "code",
   "execution_count": null,
   "id": "fbb55623",
   "metadata": {},
   "outputs": [],
   "source": []
  }
 ],
 "metadata": {
  "kernelspec": {
   "display_name": "py38",
   "language": "python",
   "name": "py38"
  },
  "language_info": {
   "codemirror_mode": {
    "name": "ipython",
    "version": 3
   },
   "file_extension": ".py",
   "mimetype": "text/x-python",
   "name": "python",
   "nbconvert_exporter": "python",
   "pygments_lexer": "ipython3",
   "version": "3.8.2"
  }
 },
 "nbformat": 4,
 "nbformat_minor": 5
}
