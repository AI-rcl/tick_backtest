{
 "cells": [
  {
   "cell_type": "code",
   "execution_count": 1,
   "id": "820e35a6",
   "metadata": {},
   "outputs": [],
   "source": [
    "import pandas as pd\n",
    "import numpy as np\n",
    "import matplotlib.pyplot as plt"
   ]
  },
  {
   "cell_type": "code",
   "execution_count": 2,
   "id": "b7b573c7",
   "metadata": {},
   "outputs": [
    {
     "data": {
      "text/html": [
       "<div>\n",
       "<style scoped>\n",
       "    .dataframe tbody tr th:only-of-type {\n",
       "        vertical-align: middle;\n",
       "    }\n",
       "\n",
       "    .dataframe tbody tr th {\n",
       "        vertical-align: top;\n",
       "    }\n",
       "\n",
       "    .dataframe thead th {\n",
       "        text-align: right;\n",
       "    }\n",
       "</style>\n",
       "<table border=\"1\" class=\"dataframe\">\n",
       "  <thead>\n",
       "    <tr style=\"text-align: right;\">\n",
       "      <th></th>\n",
       "      <th>date</th>\n",
       "      <th>volume</th>\n",
       "      <th>turnover</th>\n",
       "      <th>open_interest</th>\n",
       "      <th>last_price</th>\n",
       "      <th>bid_price</th>\n",
       "      <th>ask_price</th>\n",
       "      <th>bid_volume</th>\n",
       "      <th>ask_volume</th>\n",
       "    </tr>\n",
       "  </thead>\n",
       "  <tbody>\n",
       "    <tr>\n",
       "      <th>0</th>\n",
       "      <td>2024-03-21 10:35:09</td>\n",
       "      <td>678635</td>\n",
       "      <td>1.742056e+09</td>\n",
       "      <td>911573.0</td>\n",
       "      <td>2555.0</td>\n",
       "      <td>2554.0</td>\n",
       "      <td>2555.0</td>\n",
       "      <td>908</td>\n",
       "      <td>491</td>\n",
       "    </tr>\n",
       "    <tr>\n",
       "      <th>1</th>\n",
       "      <td>2024-03-21 10:35:10</td>\n",
       "      <td>678641</td>\n",
       "      <td>1.742071e+09</td>\n",
       "      <td>911573.0</td>\n",
       "      <td>2554.0</td>\n",
       "      <td>2554.0</td>\n",
       "      <td>2555.0</td>\n",
       "      <td>950</td>\n",
       "      <td>653</td>\n",
       "    </tr>\n",
       "    <tr>\n",
       "      <th>2</th>\n",
       "      <td>2024-03-21 10:35:11</td>\n",
       "      <td>678666</td>\n",
       "      <td>1.742136e+09</td>\n",
       "      <td>911593.0</td>\n",
       "      <td>2554.0</td>\n",
       "      <td>2554.0</td>\n",
       "      <td>2555.0</td>\n",
       "      <td>1006</td>\n",
       "      <td>633</td>\n",
       "    </tr>\n",
       "    <tr>\n",
       "      <th>3</th>\n",
       "      <td>2024-03-21 10:35:12</td>\n",
       "      <td>678888</td>\n",
       "      <td>1.742705e+09</td>\n",
       "      <td>911700.0</td>\n",
       "      <td>2555.0</td>\n",
       "      <td>2554.0</td>\n",
       "      <td>2555.0</td>\n",
       "      <td>999</td>\n",
       "      <td>423</td>\n",
       "    </tr>\n",
       "    <tr>\n",
       "      <th>4</th>\n",
       "      <td>2024-03-21 10:35:13</td>\n",
       "      <td>678914</td>\n",
       "      <td>1.742772e+09</td>\n",
       "      <td>911724.0</td>\n",
       "      <td>2555.0</td>\n",
       "      <td>2554.0</td>\n",
       "      <td>2555.0</td>\n",
       "      <td>1010</td>\n",
       "      <td>308</td>\n",
       "    </tr>\n",
       "  </tbody>\n",
       "</table>\n",
       "</div>"
      ],
      "text/plain": [
       "                  date  volume      turnover  open_interest  last_price  \\\n",
       "0  2024-03-21 10:35:09  678635  1.742056e+09       911573.0      2555.0   \n",
       "1  2024-03-21 10:35:10  678641  1.742071e+09       911573.0      2554.0   \n",
       "2  2024-03-21 10:35:11  678666  1.742136e+09       911593.0      2554.0   \n",
       "3  2024-03-21 10:35:12  678888  1.742705e+09       911700.0      2555.0   \n",
       "4  2024-03-21 10:35:13  678914  1.742772e+09       911724.0      2555.0   \n",
       "\n",
       "   bid_price  ask_price  bid_volume  ask_volume  \n",
       "0     2554.0     2555.0         908         491  \n",
       "1     2554.0     2555.0         950         653  \n",
       "2     2554.0     2555.0        1006         633  \n",
       "3     2554.0     2555.0         999         423  \n",
       "4     2554.0     2555.0        1010         308  "
      ]
     },
     "execution_count": 2,
     "metadata": {},
     "output_type": "execute_result"
    }
   ],
   "source": [
    "data = pd.read_csv('./data/ma405_tick.csv')\n",
    "\n",
    "data.head()"
   ]
  },
  {
   "cell_type": "code",
   "execution_count": 3,
   "id": "0b56fb20",
   "metadata": {},
   "outputs": [
    {
     "data": {
      "text/html": [
       "<div>\n",
       "<style scoped>\n",
       "    .dataframe tbody tr th:only-of-type {\n",
       "        vertical-align: middle;\n",
       "    }\n",
       "\n",
       "    .dataframe tbody tr th {\n",
       "        vertical-align: top;\n",
       "    }\n",
       "\n",
       "    .dataframe thead th {\n",
       "        text-align: right;\n",
       "    }\n",
       "</style>\n",
       "<table border=\"1\" class=\"dataframe\">\n",
       "  <thead>\n",
       "    <tr style=\"text-align: right;\">\n",
       "      <th></th>\n",
       "      <th>date</th>\n",
       "      <th>volume</th>\n",
       "      <th>turnover</th>\n",
       "      <th>open_interest</th>\n",
       "      <th>last_price</th>\n",
       "      <th>bid_price</th>\n",
       "      <th>ask_price</th>\n",
       "      <th>bid_volume</th>\n",
       "      <th>ask_volume</th>\n",
       "    </tr>\n",
       "  </thead>\n",
       "  <tbody>\n",
       "    <tr>\n",
       "      <th>468447</th>\n",
       "      <td>2024-05-17 14:59:52</td>\n",
       "      <td>0</td>\n",
       "      <td>0.0</td>\n",
       "      <td>1168.0</td>\n",
       "      <td>2755.0</td>\n",
       "      <td>2684.0</td>\n",
       "      <td>2755.0</td>\n",
       "      <td>44</td>\n",
       "      <td>20</td>\n",
       "    </tr>\n",
       "    <tr>\n",
       "      <th>468448</th>\n",
       "      <td>2024-05-17 14:59:56</td>\n",
       "      <td>0</td>\n",
       "      <td>0.0</td>\n",
       "      <td>1168.0</td>\n",
       "      <td>2755.0</td>\n",
       "      <td>2685.0</td>\n",
       "      <td>2755.0</td>\n",
       "      <td>11</td>\n",
       "      <td>20</td>\n",
       "    </tr>\n",
       "    <tr>\n",
       "      <th>468449</th>\n",
       "      <td>2024-05-17 14:59:57</td>\n",
       "      <td>0</td>\n",
       "      <td>0.0</td>\n",
       "      <td>1168.0</td>\n",
       "      <td>2755.0</td>\n",
       "      <td>2685.0</td>\n",
       "      <td>2755.0</td>\n",
       "      <td>44</td>\n",
       "      <td>20</td>\n",
       "    </tr>\n",
       "    <tr>\n",
       "      <th>468450</th>\n",
       "      <td>2024-05-17 14:59:58</td>\n",
       "      <td>0</td>\n",
       "      <td>0.0</td>\n",
       "      <td>1168.0</td>\n",
       "      <td>2755.0</td>\n",
       "      <td>2684.0</td>\n",
       "      <td>2755.0</td>\n",
       "      <td>44</td>\n",
       "      <td>20</td>\n",
       "    </tr>\n",
       "    <tr>\n",
       "      <th>468451</th>\n",
       "      <td>2024-05-17 15:00:00</td>\n",
       "      <td>0</td>\n",
       "      <td>0.0</td>\n",
       "      <td>1168.0</td>\n",
       "      <td>2755.0</td>\n",
       "      <td>2684.0</td>\n",
       "      <td>2755.0</td>\n",
       "      <td>44</td>\n",
       "      <td>20</td>\n",
       "    </tr>\n",
       "  </tbody>\n",
       "</table>\n",
       "</div>"
      ],
      "text/plain": [
       "                       date  volume  turnover  open_interest  last_price  \\\n",
       "468447  2024-05-17 14:59:52       0       0.0         1168.0      2755.0   \n",
       "468448  2024-05-17 14:59:56       0       0.0         1168.0      2755.0   \n",
       "468449  2024-05-17 14:59:57       0       0.0         1168.0      2755.0   \n",
       "468450  2024-05-17 14:59:58       0       0.0         1168.0      2755.0   \n",
       "468451  2024-05-17 15:00:00       0       0.0         1168.0      2755.0   \n",
       "\n",
       "        bid_price  ask_price  bid_volume  ask_volume  \n",
       "468447     2684.0     2755.0          44          20  \n",
       "468448     2685.0     2755.0          11          20  \n",
       "468449     2685.0     2755.0          44          20  \n",
       "468450     2684.0     2755.0          44          20  \n",
       "468451     2684.0     2755.0          44          20  "
      ]
     },
     "execution_count": 3,
     "metadata": {},
     "output_type": "execute_result"
    }
   ],
   "source": [
    "data.tail()"
   ]
  },
  {
   "cell_type": "code",
   "execution_count": 4,
   "id": "ba910cd8",
   "metadata": {},
   "outputs": [],
   "source": [
    "mul = 10\n",
    "\n",
    "data['volume_delta'] = data['volume'].diff()\n",
    "data['turn_delta'] = data['turnover'].diff()\n",
    "data['trade_price'] = data['turn_delta']/data['volume_delta']"
   ]
  },
  {
   "cell_type": "code",
   "execution_count": 5,
   "id": "9438f4ea",
   "metadata": {},
   "outputs": [],
   "source": [
    "def argmax(x):\n",
    "    return x.argmax()\n",
    "def argmin(x):\n",
    "    return x.argmin()\n",
    "def get_diff(x):\n",
    "    if abs(x[0])>abs(x[1]):\n",
    "        return x[0]\n",
    "    else:\n",
    "        return x[1]"
   ]
  },
  {
   "cell_type": "code",
   "execution_count": 6,
   "id": "ae957e6f",
   "metadata": {},
   "outputs": [],
   "source": [
    "p0 = 60\n",
    "p1 = 360\n",
    "p2 = 360\n",
    "\n",
    "\n",
    "roll_0 = data['last_price'].rolling(p0)\n",
    "roll_1 = data['last_price'].rolling(p1)\n",
    "roll_2 = data['last_price'].rolling(p2)\n",
    "\n",
    "\n",
    "max0 = roll_0.max()\n",
    "min0 = roll_0.min()\n",
    "\n",
    "max1 = roll_1.max()\n",
    "min1 = roll_1.min()\n",
    "\n",
    "max2 = roll_2.max().shift(-p2)\n",
    "min2 = roll_2.min().shift(-p2)\n",
    "\n",
    "\n",
    "data['min0_diff'] = data['last_price'] - max0\n",
    "data['max0_diff'] = data['last_price'] - min0\n",
    "data['min1_diff'] = data['last_price'] - max1 \n",
    "data['max1_diff'] = data['last_price'] - min1\n",
    "data['max2_diff'] = max2 - data['last_price']\n",
    "data['min2_diff'] = min2 - data['last_price']\n",
    "\n",
    "data['diff0'] = data[['min0_diff','max0_diff']].apply(get_diff,axis=1)\n",
    "data['diff1']= data[['min1_diff','max1_diff']].apply(get_diff,axis=1)\n",
    "data['diff2']=data[['min2_diff','max2_diff']].apply(get_diff,axis=1)\n",
    "\n",
    "\n",
    "# sma = talib.SMA(data['last_price'],3)\n",
    "# data['slope'] = talib.LINEARREG_SLOPE(data['last_price'],3)\n",
    "\n",
    "# ask_sma_volume = talib.SMA(data['ask_volume'],3)\n",
    "# bid_sma_volume = talib.SMA(data['bid_volume'],3)\n",
    "\n",
    "# data['ask_volume_slope'] = talib.LINEARREG_SLOPE(ask_sma_volume,3)\n",
    "# data['bid_volume_slope'] = talib.LINEARREG_SLOPE(bid_sma_volume,3)"
   ]
  },
  {
   "cell_type": "code",
   "execution_count": 15,
   "id": "78105937",
   "metadata": {},
   "outputs": [
    {
     "data": {
      "text/plain": [
       "count    448452.000000\n",
       "mean          0.218884\n",
       "std           5.161285\n",
       "min         -30.000000\n",
       "25%          -3.000000\n",
       "50%           2.000000\n",
       "75%           4.000000\n",
       "max          41.000000\n",
       "Name: diff2, dtype: float64"
      ]
     },
     "execution_count": 15,
     "metadata": {},
     "output_type": "execute_result"
    }
   ],
   "source": [
    "dt = data[:-20000]\n",
    "dt['diff2'].describe()"
   ]
  },
  {
   "cell_type": "code",
   "execution_count": 78,
   "id": "05e731fd",
   "metadata": {},
   "outputs": [
    {
     "data": {
      "text/plain": [
       "count    6753.000000\n",
       "mean        3.996594\n",
       "std         3.421533\n",
       "min        -1.000000\n",
       "25%         2.000000\n",
       "50%         3.000000\n",
       "75%         5.000000\n",
       "max        37.000000\n",
       "Name: max2_diff, dtype: float64"
      ]
     },
     "execution_count": 78,
     "metadata": {},
     "output_type": "execute_result"
    }
   ],
   "source": [
    "dt[(dt['last_price']<=dt['bid_price'])&(dt['diff0']>0)&(dt['bid_volume']>2*dt['ask_volume'])]['max2_diff'].describe()"
   ]
  },
  {
   "cell_type": "code",
   "execution_count": 77,
   "id": "7737268a",
   "metadata": {},
   "outputs": [
    {
     "data": {
      "text/plain": [
       "count    2975.000000\n",
       "mean       -4.719328\n",
       "std         4.060266\n",
       "min       -28.000000\n",
       "25%        -6.000000\n",
       "50%        -3.000000\n",
       "75%        -2.000000\n",
       "max         1.000000\n",
       "Name: min2_diff, dtype: float64"
      ]
     },
     "execution_count": 77,
     "metadata": {},
     "output_type": "execute_result"
    }
   ],
   "source": [
    "dt[(dt['last_price']>=dt['ask_price'])&(dt['diff0']<0)&(dt['ask_volume']>2*dt['bid_volume'])]['min2_diff'].describe()"
   ]
  },
  {
   "cell_type": "code",
   "execution_count": null,
   "id": "798d4bd3",
   "metadata": {},
   "outputs": [],
   "source": []
  }
 ],
 "metadata": {
  "kernelspec": {
   "display_name": "py38",
   "language": "python",
   "name": "py38"
  },
  "language_info": {
   "codemirror_mode": {
    "name": "ipython",
    "version": 3
   },
   "file_extension": ".py",
   "mimetype": "text/x-python",
   "name": "python",
   "nbconvert_exporter": "python",
   "pygments_lexer": "ipython3",
   "version": "3.8.2"
  }
 },
 "nbformat": 4,
 "nbformat_minor": 5
}
